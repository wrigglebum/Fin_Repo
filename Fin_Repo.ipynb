{
 "cells": [
  {
   "cell_type": "code",
   "execution_count": 2,
   "metadata": {},
   "outputs": [],
   "source": [
    "import pandas as pd\n",
    "import numpy as np\n",
    "import openpyxl\n",
    "\n",
    "from openpyxl.workbook import Workbook\n",
    "from openpyxl.utils.dataframe import dataframe_to_rows\n",
    "\n",
    "from openpyxl.styles import Font, colors, Color, Alignment, PatternFill, GradientFill, Border, Side\n",
    "from openpyxl.styles import NamedStyle"
   ]
  },
  {
   "cell_type": "code",
   "execution_count": 3,
   "metadata": {},
   "outputs": [],
   "source": [
    "# Read in source file\n",
    "df = pd.read_csv(r'C:\\Users\\stew\\Downloads\\Feb_YTD2.csv', header=None)"
   ]
  },
  {
   "cell_type": "code",
   "execution_count": 4,
   "metadata": {},
   "outputs": [],
   "source": [
    "# Change name of columns\n",
    "df.columns = ['Year', 'Version', 'Period', 'Directorate','Value']"
   ]
  },
  {
   "cell_type": "code",
   "execution_count": 5,
   "metadata": {},
   "outputs": [],
   "source": [
    "# Create a new column for value and round it.  Drop the old column.  \n",
    "#I couldn't work out how to round the values within the same column\n",
    "\n",
    "df['Total'] = df['Value'].round(0)\n",
    "\n",
    "df2 = df.drop(['Value'], axis=1)\n",
    "\n"
   ]
  },
  {
   "cell_type": "code",
   "execution_count": 6,
   "metadata": {},
   "outputs": [],
   "source": [
    "# Searches for a substring within a string and changes the value\n",
    "\n",
    "df2.loc[df2['Version'].str.contains('Forecast'), 'Version'] = 'Forecast'\n",
    "\n"
   ]
  },
  {
   "cell_type": "code",
   "execution_count": 7,
   "metadata": {},
   "outputs": [],
   "source": [
    "df2.loc[df2['Version'].str.contains('Budget'), 'Version'] = 'Budget'"
   ]
  },
  {
   "cell_type": "code",
   "execution_count": 8,
   "metadata": {},
   "outputs": [],
   "source": [
    "df2.loc[df2['Directorate'].str.contains('GENERAL COUNSEL'), 'Directorate'] = 'General Counsel'"
   ]
  },
  {
   "cell_type": "code",
   "execution_count": 9,
   "metadata": {},
   "outputs": [],
   "source": [
    "df2.loc[df2['Directorate'].str.contains('COMMERCIAL'), 'Directorate'] = 'Commercial'"
   ]
  },
  {
   "cell_type": "code",
   "execution_count": 10,
   "metadata": {},
   "outputs": [],
   "source": [
    "df2.loc[df2['Directorate'].str.contains('COMPLIANCE'), 'Directorate'] = 'Compliance'"
   ]
  },
  {
   "cell_type": "code",
   "execution_count": 11,
   "metadata": {},
   "outputs": [],
   "source": [
    "df2.loc[df2['Directorate'].str.contains('CORPORATE'), 'Directorate'] = 'Corporate Costs'"
   ]
  },
  {
   "cell_type": "code",
   "execution_count": 12,
   "metadata": {},
   "outputs": [],
   "source": [
    "df2.loc[df2['Directorate'].str.contains('CUSTOMER'), 'Directorate'] = 'Customer'"
   ]
  },
  {
   "cell_type": "code",
   "execution_count": 13,
   "metadata": {},
   "outputs": [],
   "source": [
    "df2.loc[df2['Directorate'].str.contains('FINANCE'), 'Directorate'] = 'Finance'"
   ]
  },
  {
   "cell_type": "code",
   "execution_count": 14,
   "metadata": {},
   "outputs": [],
   "source": [
    "df2.loc[df2['Directorate'].str.contains('CHANGE PROJ'), 'Directorate'] = 'Change Projects'"
   ]
  },
  {
   "cell_type": "code",
   "execution_count": 15,
   "metadata": {},
   "outputs": [],
   "source": [
    "df2.loc[df2['Directorate'].str.contains('DIRECTORS'), 'Directorate'] = 'Directors'"
   ]
  },
  {
   "cell_type": "code",
   "execution_count": 16,
   "metadata": {},
   "outputs": [],
   "source": [
    "df2.loc[df2['Directorate'].str.contains('COMMUNICA'), 'Directorate'] = 'Communications'"
   ]
  },
  {
   "cell_type": "code",
   "execution_count": 17,
   "metadata": {},
   "outputs": [],
   "source": [
    "df2.loc[df2['Directorate'].str.contains('HR'), 'Directorate'] = 'HR'"
   ]
  },
  {
   "cell_type": "code",
   "execution_count": 18,
   "metadata": {},
   "outputs": [],
   "source": [
    "df2.loc[df2['Directorate'].str.contains('HEALTH'), 'Directorate'] = 'Health and Safety'"
   ]
  },
  {
   "cell_type": "code",
   "execution_count": 19,
   "metadata": {},
   "outputs": [],
   "source": [
    "df2.loc[df2['Directorate'].str.contains('ENGINEER'), 'Directorate'] = 'E&C'"
   ]
  },
  {
   "cell_type": "code",
   "execution_count": 20,
   "metadata": {},
   "outputs": [],
   "source": [
    "df2.loc[df2['Directorate'].str.contains('INSURA'), 'Directorate'] = 'Insurance'"
   ]
  },
  {
   "cell_type": "code",
   "execution_count": 21,
   "metadata": {},
   "outputs": [],
   "source": [
    "df2.loc[df2['Directorate'].str.contains('IT IT'), 'Directorate'] = 'IT'"
   ]
  },
  {
   "cell_type": "code",
   "execution_count": 22,
   "metadata": {},
   "outputs": [],
   "source": [
    "df2.loc[df2['Directorate'].str.contains('LEGAC'), 'Directorate'] = 'Legacy'"
   ]
  },
  {
   "cell_type": "code",
   "execution_count": 23,
   "metadata": {},
   "outputs": [],
   "source": [
    "df2.loc[df2['Directorate'].str.contains('SYSTEMS'), 'Directorate'] = 'SAM'"
   ]
  },
  {
   "cell_type": "code",
   "execution_count": 24,
   "metadata": {},
   "outputs": [],
   "source": [
    "df2.loc[df2['Directorate'].str.contains('REGU'), 'Directorate'] = 'Regulations'"
   ]
  },
  {
   "cell_type": "code",
   "execution_count": 25,
   "metadata": {},
   "outputs": [],
   "source": [
    "df2.loc[df2['Directorate'].str.contains('NON OP'), 'Directorate'] = 'Non Op Income'"
   ]
  },
  {
   "cell_type": "code",
   "execution_count": 26,
   "metadata": {},
   "outputs": [],
   "source": [
    "df2.loc[df2['Directorate'].str.contains('WASTE'), 'Directorate'] = 'Wastewater'"
   ]
  },
  {
   "cell_type": "code",
   "execution_count": 27,
   "metadata": {},
   "outputs": [],
   "source": [
    "df2.loc[df2['Directorate'].str.contains('WATER OPER'), 'Directorate'] = 'Water'"
   ]
  },
  {
   "cell_type": "code",
   "execution_count": 28,
   "metadata": {},
   "outputs": [],
   "source": [
    "df2.loc[df2['Directorate'].str.contains('CENTRAL'), 'Directorate'] = 'Central Adjustments'"
   ]
  },
  {
   "cell_type": "code",
   "execution_count": 29,
   "metadata": {},
   "outputs": [],
   "source": [
    "df2.loc[df2['Directorate'].str.contains('PENSION'), 'Directorate'] = 'Pension Costs'"
   ]
  },
  {
   "cell_type": "code",
   "execution_count": 30,
   "metadata": {},
   "outputs": [],
   "source": [
    "# Select budget YTD\n",
    "df3 = df2[(df2['Version'] == 'Budget') & (df2['Period'] == 'Feb YTD')]\n"
   ]
  },
  {
   "cell_type": "code",
   "execution_count": 31,
   "metadata": {},
   "outputs": [
    {
     "data": {
      "text/plain": [
       "42686259.0"
      ]
     },
     "execution_count": 31,
     "metadata": {},
     "output_type": "execute_result"
    }
   ],
   "source": [
    "# Sum budget YTD\n",
    "df3['Total'].sum()\n"
   ]
  },
  {
   "cell_type": "code",
   "execution_count": 32,
   "metadata": {},
   "outputs": [],
   "source": [
    "# Select Actual YTD\n",
    "df4 = df2[(df2['Version'] == 'Actual') & (df2['Period'] == 'Feb YTD')]"
   ]
  },
  {
   "cell_type": "code",
   "execution_count": 33,
   "metadata": {},
   "outputs": [
    {
     "data": {
      "text/plain": [
       "64832894.0"
      ]
     },
     "execution_count": 33,
     "metadata": {},
     "output_type": "execute_result"
    }
   ],
   "source": [
    "# Sum Actual YTD\n",
    "df4['Total'].sum()"
   ]
  },
  {
   "cell_type": "code",
   "execution_count": 34,
   "metadata": {},
   "outputs": [],
   "source": [
    "# Select Forecast YTD\n",
    "df5 = df2[(df2['Version'] == 'Forecast') & (df2['Period'] == 'Feb YTD')]"
   ]
  },
  {
   "cell_type": "code",
   "execution_count": 35,
   "metadata": {},
   "outputs": [],
   "source": [
    "# Add all those dataframes to a new dataframe.  Is there a way to do this without so many variables?\n",
    "df6 = pd.DataFrame({'Budget': df3['Total'].sum(),\n",
    "                     'Actual': df4['Total'].sum(),\n",
    "                     'Forecast': df5['Total'].sum(),\n",
    "                    'Variance to Budget': df3['Total'].sum() - df4['Total'].sum(),\n",
    "                    'Variance to Forecast': df5['Total'].sum() - df4['Total'].sum(),\n",
    "                     },index=[0])"
   ]
  },
  {
   "cell_type": "code",
   "execution_count": 36,
   "metadata": {},
   "outputs": [],
   "source": [
    "# From openpyxl create new workbook and add in dataframe\n",
    "wb = Workbook()\n",
    "ws = wb.active\n",
    "for r in dataframe_to_rows(df6, index=False, header=True):\n",
    "    ws.append(r)\n"
   ]
  },
  {
   "cell_type": "code",
   "execution_count": 37,
   "metadata": {},
   "outputs": [],
   "source": [
    "# Create named style for headers\n",
    "highlight = NamedStyle(name='highlight')\n",
    "\n",
    "# assign fill colour to namestyle\n",
    "highlight.fill = PatternFill(patternType='solid', fill_type='solid', fgColor=Color('000099'))"
   ]
  },
  {
   "cell_type": "code",
   "execution_count": 38,
   "metadata": {},
   "outputs": [],
   "source": [
    "# Set font parameters for headers\n",
    "highlight.font = Font(color=colors.WHITE, size=10, name='Arial')\n"
   ]
  },
  {
   "cell_type": "code",
   "execution_count": 39,
   "metadata": {},
   "outputs": [],
   "source": [
    "# Create named style for numbers\n",
    "nuf = NamedStyle(name='nuf')\n",
    "\n",
    "# Set font parameters for numbers\n",
    "nuf.font = Font(size=10, name='Arial')\n",
    "\n",
    "# Use custom excel number format\n",
    "nuf.number_format = u'#,##0.0,,;[Red](#,##0.0,,);'"
   ]
  },
  {
   "cell_type": "code",
   "execution_count": 40,
   "metadata": {},
   "outputs": [],
   "source": [
    "# Apply style across headers\n",
    "count = 0\n",
    "for col in ws.iter_cols(min_col=1, min_row=1, max_col=5, max_row=30):\n",
    "    col[count].style = highlight"
   ]
  },
  {
   "cell_type": "code",
   "execution_count": 41,
   "metadata": {},
   "outputs": [],
   "source": [
    "# Apply style across numbers\n",
    "count = 1\n",
    "for col in ws.iter_cols(min_col=1, min_row=1, max_col=5, max_row=30):\n",
    "    col[count].style = nuf"
   ]
  },
  {
   "cell_type": "code",
   "execution_count": 42,
   "metadata": {},
   "outputs": [],
   "source": [
    "# Save workbook\n",
    "wb.save(r'C:\\Users\\stew\\Downloads\\df16.xlsx')"
   ]
  }
 ],
 "metadata": {
  "kernelspec": {
   "display_name": "Python 3",
   "language": "python",
   "name": "python3"
  },
  "language_info": {
   "codemirror_mode": {
    "name": "ipython",
    "version": 3
   },
   "file_extension": ".py",
   "mimetype": "text/x-python",
   "name": "python",
   "nbconvert_exporter": "python",
   "pygments_lexer": "ipython3",
   "version": "3.7.4"
  }
 },
 "nbformat": 4,
 "nbformat_minor": 2
}
